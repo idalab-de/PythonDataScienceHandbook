{
 "cells": [
  {
   "cell_type": "markdown",
   "metadata": {},
   "source": [
    "This tutorial aims to introduce you to the command line tool 'git', which is the de-facto tooling standard for code versioning. It is aimed at beginners and should take you roughly one day. Take your time, git is a handy tool and evere data scientist at idalab can tell you a story when they wished they knew more about it."
   ]
  },
  {
   "cell_type": "markdown",
   "metadata": {},
   "source": [
    "The tutorial is split into two parts:\n",
    "\n",
    "1. Read chapters 3.1 and 1.3 (in that order) of https://git-scm.com/book/en/v2.\n",
    "The important concepts to grasp are what git itself is for, what a branch is, and what the master is."
   ]
  },
  {
   "cell_type": "markdown",
   "metadata": {},
   "source": [
    "2. Follow the following tutorial: https://learngitbranching.js.org/"
   ]
  },
  {
   "cell_type": "markdown",
   "metadata": {},
   "source": [
    "3. After you are done, talk to David about what you learned."
   ]
  }
 ],
 "metadata": {
  "kernelspec": {
   "display_name": "Python 3",
   "language": "python",
   "name": "python3"
  },
  "language_info": {
   "codemirror_mode": {
    "name": "ipython",
    "version": 3
   },
   "file_extension": ".py",
   "mimetype": "text/x-python",
   "name": "python",
   "nbconvert_exporter": "python",
   "pygments_lexer": "ipython3",
   "version": "3.6.8"
  }
 },
 "nbformat": 4,
 "nbformat_minor": 2
}
